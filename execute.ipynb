{
 "cells": [
  {
   "cell_type": "code",
   "execution_count": 2,
   "id": "7d65f2bb-30ad-46aa-8080-70f6127c954b",
   "metadata": {},
   "outputs": [],
   "source": [
    "from google.cloud import aiplatform"
   ]
  },
  {
   "cell_type": "code",
   "execution_count": 5,
   "id": "cf76e820-5d0a-4b0e-889b-9ca025c805ee",
   "metadata": {},
   "outputs": [],
   "source": [
    "my_job = aiplatform.CustomContainerTrainingJob(display_name='flower-sdk-job',\n",
    "                                               container_uri='us-central1-docker.pkg.dev/prototype-to-production-405205/flower-app/flower_image:latest',\n",
    "                                               staging_bucket='gs://prototype-to-production-405205-bucket')"
   ]
  },
  {
   "cell_type": "code",
   "execution_count": 6,
   "id": "8ce65503-dd20-47de-9118-067e3c1ab910",
   "metadata": {},
   "outputs": [
    {
     "name": "stdout",
     "output_type": "stream",
     "text": [
      "Training Output directory:\n",
      "gs://prototype-to-production-405205-bucket/aiplatform-custom-training-2023-11-16-17:25:13.100 \n",
      "View Training:\n",
      "https://console.cloud.google.com/ai/platform/locations/us-central1/training/5496001024256638976?project=305119269408\n",
      "CustomContainerTrainingJob projects/305119269408/locations/us-central1/trainingPipelines/5496001024256638976 current state:\n",
      "PipelineState.PIPELINE_STATE_RUNNING\n",
      "View backing custom job:\n",
      "https://console.cloud.google.com/ai/platform/locations/us-central1/training/4591133740922568704?project=305119269408\n",
      "CustomContainerTrainingJob projects/305119269408/locations/us-central1/trainingPipelines/5496001024256638976 current state:\n",
      "PipelineState.PIPELINE_STATE_RUNNING\n",
      "CustomContainerTrainingJob projects/305119269408/locations/us-central1/trainingPipelines/5496001024256638976 current state:\n",
      "PipelineState.PIPELINE_STATE_RUNNING\n",
      "CustomContainerTrainingJob projects/305119269408/locations/us-central1/trainingPipelines/5496001024256638976 current state:\n",
      "PipelineState.PIPELINE_STATE_RUNNING\n",
      "CustomContainerTrainingJob projects/305119269408/locations/us-central1/trainingPipelines/5496001024256638976 current state:\n",
      "PipelineState.PIPELINE_STATE_RUNNING\n",
      "CustomContainerTrainingJob projects/305119269408/locations/us-central1/trainingPipelines/5496001024256638976 current state:\n",
      "PipelineState.PIPELINE_STATE_RUNNING\n",
      "CustomContainerTrainingJob projects/305119269408/locations/us-central1/trainingPipelines/5496001024256638976 current state:\n",
      "PipelineState.PIPELINE_STATE_RUNNING\n",
      "CustomContainerTrainingJob run completed. Resource name: projects/305119269408/locations/us-central1/trainingPipelines/5496001024256638976\n",
      "Training did not produce a Managed Model returning None. Training Pipeline projects/305119269408/locations/us-central1/trainingPipelines/5496001024256638976 is not configured to upload a Model. Create the Training Pipeline with model_serving_container_image_uri and model_display_name passed in. Ensure that your training script saves to model to os.environ['AIP_MODEL_DIR'].\n"
     ]
    }
   ],
   "source": [
    "my_job.run(replica_count=1,\n",
    "           machine_type='n1-standard-8',\n",
    "           #accelerator_type='NVIDIA_TESLA_V100',\n",
    "           accelerator_count=1)"
   ]
  }
 ],
 "metadata": {
  "kernelspec": {
   "display_name": "TensorFlow 2.12 (Local)",
   "language": "python",
   "name": "local-tf2-2-12"
  },
  "language_info": {
   "codemirror_mode": {
    "name": "ipython",
    "version": 3
   },
   "file_extension": ".py",
   "mimetype": "text/x-python",
   "name": "python",
   "nbconvert_exporter": "python",
   "pygments_lexer": "ipython3",
   "version": "3.10.12"
  }
 },
 "nbformat": 4,
 "nbformat_minor": 5
}
