{
 "cells": [
  {
   "cell_type": "code",
   "execution_count": 1,
   "id": "7d65f2bb-30ad-46aa-8080-70f6127c954b",
   "metadata": {},
   "outputs": [],
   "source": [
    "from google.cloud import aiplatform"
   ]
  },
  {
   "cell_type": "code",
   "execution_count": null,
   "id": "cf76e820-5d0a-4b0e-889b-9ca025c805ee",
   "metadata": {},
   "outputs": [],
   "source": [
    "my_job = aiplatform.CustomContainerTrainingJob(display_name='flower-sdk-job',\n",
    "                                               container_uri='us-central1-docker.pkg.dev/{PROJECT_ID}/flower-app/flower_image:latest',\n",
    "                                               staging_bucket='gs://{BUCKET}')"
   ]
  }
 ],
 "metadata": {
  "kernelspec": {
   "display_name": "TensorFlow 2.12 (Local)",
   "language": "python",
   "name": "local-tf2-2-12"
  },
  "language_info": {
   "codemirror_mode": {
    "name": "ipython",
    "version": 3
   },
   "file_extension": ".py",
   "mimetype": "text/x-python",
   "name": "python",
   "nbconvert_exporter": "python",
   "pygments_lexer": "ipython3",
   "version": "3.10.12"
  }
 },
 "nbformat": 4,
 "nbformat_minor": 5
}
